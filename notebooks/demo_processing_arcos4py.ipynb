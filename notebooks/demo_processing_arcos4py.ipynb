{
 "cells": [
  {
   "cell_type": "markdown",
   "metadata": {},
   "source": [
    "### Install arcos4py from pypi"
   ]
  },
  {
   "cell_type": "code",
   "execution_count": null,
   "metadata": {},
   "outputs": [],
   "source": [
    "! pip install arcos4py"
   ]
  },
  {
   "cell_type": "markdown",
   "metadata": {},
   "source": [
    "### Import packages"
   ]
  },
  {
   "cell_type": "code",
   "execution_count": 18,
   "metadata": {},
   "outputs": [],
   "source": [
    "import pandas as pd\n",
    "from arcos4py import ARCOS\n",
    "TAB20 = [\n",
    "    \"#1f77b4\",\n",
    "    \"#aec7e8\",\n",
    "    \"#ff7f0e\",\n",
    "    \"#ffbb78\",\n",
    "    \"#2ca02c\",\n",
    "    \"#98df8a\",\n",
    "    \"#d62728\",\n",
    "    \"#ff9896\",\n",
    "    \"#9467bd\",\n",
    "    \"#c5b0d5\",\n",
    "    \"#8c564b\",\n",
    "    \"#c49c94\",\n",
    "    \"#e377c2\",\n",
    "    \"#f7b6d2\",\n",
    "    \"#7f7f7f\",\n",
    "    \"#c7c7c7\",\n",
    "    \"#bcbd22\",\n",
    "    \"#dbdb8d\",\n",
    "    \"#17becf\",\n",
    "    \"#9edae5\",\n",
    "]"
   ]
  },
  {
   "cell_type": "markdown",
   "metadata": {},
   "source": [
    "### Example Dataset\n",
    "\n",
    "The synthetic dataset contains 81 objects spaced on a 2D 9x9 lattice. Each object has an ID (column id) and can assume values 0 and 1 (column m), which correspond to an inactive and active state. The evolution of active states takes place over 8 consecutive time points (column t). Each cell moves slightly over time, hence a light wiggle around the initial position.\n",
    "\n",
    "dataset location: arcos4py/sample_data/arcos_data.csv\"\n",
    "\n",
    "For an in-depth explanation of the parameters check out the documentation"
   ]
  },
  {
   "cell_type": "markdown",
   "metadata": {},
   "source": [
    "### Set variables for loading and processing of the data\n",
    "\n",
    "For an in-depth explanation of the parameters check out the documentation"
   ]
  },
  {
   "cell_type": "code",
   "execution_count": 6,
   "metadata": {},
   "outputs": [],
   "source": [
    "# path to data\n",
    "DATA: str = \"sample_data/arcos_data.csv\"\n",
    "\n",
    "# column names in DATA\n",
    "POSITION_COLUMN_NAMES: list = ['x', 'y']\n",
    "FRAME_COLUMN_NAME: str = \"t\"\n",
    "OBJECT_ID_COLUMN_NAME: str = None\n",
    "MEASUREMENT_COLUMN_NAME: str = \"m\"\n",
    "\n",
    "# column name with collective event track ids\n",
    "COLLID_COLUMN_NAME: str = \"collid\"\n",
    "\n",
    "# values for clipping and interpolation\n",
    "INTERPOLATE: bool = False\n",
    "CLIP: bool = False\n",
    "CLIP_LOW: float = 0.001\n",
    "CLIP_HIGH: float = 0.999\n",
    "\n",
    "# binarization parameters\n",
    "DETRENDING_METHOD: str = \"none\"   # can be \"none\", \"runmed\" or \"lm\"\n",
    "SMOOTHK: int = 3\n",
    "BIASK: int = 25                     # needed only if BINARIZATION_METHOD method = runmed\n",
    "PEAK_THRESHOLD: float = 0.5         # needed only if BINARIZATION_METHOD method = runmed\n",
    "DEGREE_OF_POLYNOMIAL: int = 1       # needed only if BINARIZATION_METHOD method = lm\n",
    "BINARIZATION_THRESHOLD: float = 0.5\n",
    "\n",
    "# event detection parameters\n",
    "EPS: float = 2\n",
    "MIN_CLUSTER_SIZE: int = 2\n",
    "NPREV_FRAMES: int = 1\n",
    "\n",
    "# filter parameters\n",
    "MIN_COLLECTIVE_EVENT_DURATION: int = 2\n",
    "MIN_TOTAL_EVENT_SIZE: int = 5"
   ]
  },
  {
   "cell_type": "markdown",
   "metadata": {},
   "source": [
    "### Load dataset"
   ]
  },
  {
   "cell_type": "code",
   "execution_count": 7,
   "metadata": {},
   "outputs": [
    {
     "data": {
      "text/html": [
       "<div>\n",
       "<style scoped>\n",
       "    .dataframe tbody tr th:only-of-type {\n",
       "        vertical-align: middle;\n",
       "    }\n",
       "\n",
       "    .dataframe tbody tr th {\n",
       "        vertical-align: top;\n",
       "    }\n",
       "\n",
       "    .dataframe thead th {\n",
       "        text-align: right;\n",
       "    }\n",
       "</style>\n",
       "<table border=\"1\" class=\"dataframe\">\n",
       "  <thead>\n",
       "    <tr style=\"text-align: right;\">\n",
       "      <th></th>\n",
       "      <th>t</th>\n",
       "      <th>x</th>\n",
       "      <th>y</th>\n",
       "      <th>m</th>\n",
       "      <th>id</th>\n",
       "    </tr>\n",
       "  </thead>\n",
       "  <tbody>\n",
       "    <tr>\n",
       "      <th>0</th>\n",
       "      <td>1</td>\n",
       "      <td>0.228725</td>\n",
       "      <td>-0.158940</td>\n",
       "      <td>0</td>\n",
       "      <td>1</td>\n",
       "    </tr>\n",
       "    <tr>\n",
       "      <th>1</th>\n",
       "      <td>1</td>\n",
       "      <td>0.880323</td>\n",
       "      <td>-0.117712</td>\n",
       "      <td>0</td>\n",
       "      <td>2</td>\n",
       "    </tr>\n",
       "    <tr>\n",
       "      <th>2</th>\n",
       "      <td>1</td>\n",
       "      <td>1.930571</td>\n",
       "      <td>0.078604</td>\n",
       "      <td>0</td>\n",
       "      <td>3</td>\n",
       "    </tr>\n",
       "    <tr>\n",
       "      <th>3</th>\n",
       "      <td>1</td>\n",
       "      <td>2.958771</td>\n",
       "      <td>0.189801</td>\n",
       "      <td>0</td>\n",
       "      <td>4</td>\n",
       "    </tr>\n",
       "    <tr>\n",
       "      <th>4</th>\n",
       "      <td>1</td>\n",
       "      <td>3.902933</td>\n",
       "      <td>-0.041380</td>\n",
       "      <td>0</td>\n",
       "      <td>5</td>\n",
       "    </tr>\n",
       "  </tbody>\n",
       "</table>\n",
       "</div>"
      ],
      "text/plain": [
       "   t         x         y  m  id\n",
       "0  1  0.228725 -0.158940  0   1\n",
       "1  1  0.880323 -0.117712  0   2\n",
       "2  1  1.930571  0.078604  0   3\n",
       "3  1  2.958771  0.189801  0   4\n",
       "4  1  3.902933 -0.041380  0   5"
      ]
     },
     "execution_count": 7,
     "metadata": {},
     "output_type": "execute_result"
    }
   ],
   "source": [
    "df = pd.read_csv(DATA)\n",
    "\n",
    "# print first rows of data\n",
    "df.head()"
   ]
  },
  {
   "cell_type": "markdown",
   "metadata": {},
   "source": [
    "### Detect collective events"
   ]
  },
  {
   "cell_type": "code",
   "execution_count": 8,
   "metadata": {},
   "outputs": [
    {
     "name": "stderr",
     "output_type": "stream",
     "text": [
      "9it [00:00, 232.30it/s]              "
     ]
    },
    {
     "name": "stdout",
     "output_type": "stream",
     "text": [
      "[0 2 2 1 4 1 5 5]\n",
      "[0 6 5 5 4 7 6 4 3 3 0 1 1 2 0 1 7 7]\n",
      "[ 1  5  6  0  5  7  7 16 14 17 12  0 15 15 11 12]\n",
      "[ 5  8  9 10 12 14]\n",
      "[ 3 11]\n"
     ]
    },
    {
     "name": "stderr",
     "output_type": "stream",
     "text": [
      "\n"
     ]
    },
    {
     "data": {
      "text/html": [
       "<div>\n",
       "<style scoped>\n",
       "    .dataframe tbody tr th:only-of-type {\n",
       "        vertical-align: middle;\n",
       "    }\n",
       "\n",
       "    .dataframe tbody tr th {\n",
       "        vertical-align: top;\n",
       "    }\n",
       "\n",
       "    .dataframe thead th {\n",
       "        text-align: right;\n",
       "    }\n",
       "</style>\n",
       "<table border=\"1\" class=\"dataframe\">\n",
       "  <thead>\n",
       "    <tr style=\"text-align: right;\">\n",
       "      <th></th>\n",
       "      <th>t</th>\n",
       "      <th>x</th>\n",
       "      <th>y</th>\n",
       "      <th>m</th>\n",
       "      <th>id</th>\n",
       "      <th>m.resc</th>\n",
       "      <th>m.bin</th>\n",
       "      <th>collid</th>\n",
       "    </tr>\n",
       "  </thead>\n",
       "  <tbody>\n",
       "    <tr>\n",
       "      <th>0</th>\n",
       "      <td>2</td>\n",
       "      <td>4.156989</td>\n",
       "      <td>3.914614</td>\n",
       "      <td>1</td>\n",
       "      <td>41</td>\n",
       "      <td>1</td>\n",
       "      <td>1</td>\n",
       "      <td>-1</td>\n",
       "    </tr>\n",
       "    <tr>\n",
       "      <th>1</th>\n",
       "      <td>3</td>\n",
       "      <td>4.933454</td>\n",
       "      <td>4.941598</td>\n",
       "      <td>1</td>\n",
       "      <td>51</td>\n",
       "      <td>1</td>\n",
       "      <td>1</td>\n",
       "      <td>1</td>\n",
       "    </tr>\n",
       "    <tr>\n",
       "      <th>2</th>\n",
       "      <td>3</td>\n",
       "      <td>5.060063</td>\n",
       "      <td>4.063136</td>\n",
       "      <td>1</td>\n",
       "      <td>42</td>\n",
       "      <td>1</td>\n",
       "      <td>1</td>\n",
       "      <td>1</td>\n",
       "    </tr>\n",
       "    <tr>\n",
       "      <th>3</th>\n",
       "      <td>3</td>\n",
       "      <td>3.837904</td>\n",
       "      <td>4.910511</td>\n",
       "      <td>1</td>\n",
       "      <td>50</td>\n",
       "      <td>1</td>\n",
       "      <td>1</td>\n",
       "      <td>1</td>\n",
       "    </tr>\n",
       "    <tr>\n",
       "      <th>4</th>\n",
       "      <td>3</td>\n",
       "      <td>3.997509</td>\n",
       "      <td>3.955390</td>\n",
       "      <td>1</td>\n",
       "      <td>41</td>\n",
       "      <td>1</td>\n",
       "      <td>1</td>\n",
       "      <td>1</td>\n",
       "    </tr>\n",
       "  </tbody>\n",
       "</table>\n",
       "</div>"
      ],
      "text/plain": [
       "   t         x         y  m  id  m.resc  m.bin  collid\n",
       "0  2  4.156989  3.914614  1  41       1      1      -1\n",
       "1  3  4.933454  4.941598  1  51       1      1       1\n",
       "2  3  5.060063  4.063136  1  42       1      1       1\n",
       "3  3  3.837904  4.910511  1  50       1      1       1\n",
       "4  3  3.997509  3.955390  1  41       1      1       1"
      ]
     },
     "execution_count": 8,
     "metadata": {},
     "output_type": "execute_result"
    }
   ],
   "source": [
    "# create ARCOS object\n",
    "ts = ARCOS(data=df, posCols=POSITION_COLUMN_NAMES, frame_column=FRAME_COLUMN_NAME, id_column=OBJECT_ID_COLUMN_NAME, measurement_column=MEASUREMENT_COLUMN_NAME, clid_column=COLLID_COLUMN_NAME)\n",
    "\n",
    "# interpolate and clip if necessary\n",
    "if INTERPOLATE:\n",
    "    ts.interpolate_measurements() # interpolation of missing values, optional\n",
    "if CLIP:\n",
    "    ts.clip_meas(CLIP_LOW, CLIP_HIGH) # clipping of measurement value, optional\n",
    "\n",
    "# detrend and binarize data\n",
    "ts.bin_measurements(smoothK=SMOOTHK, biasK=BIASK, peakThr=PEAK_THRESHOLD, binThr=BINARIZATION_THRESHOLD, polyDeg=DEGREE_OF_POLYNOMIAL, biasMet=DETRENDING_METHOD) # detrending and binarization\n",
    "\n",
    "# detect and track collective events\n",
    "collev = ts.trackCollev(eps=EPS, minClsz=MIN_CLUSTER_SIZE, nPrev=NPREV_FRAMES)\n",
    "\n",
    "# print first rows of detected collective events\n",
    "collev.head()"
   ]
  },
  {
   "cell_type": "code",
   "execution_count": 12,
   "metadata": {},
   "outputs": [],
   "source": [
    "collev_filtered = collev.query('collid == 1')"
   ]
  },
  {
   "cell_type": "code",
   "execution_count": 14,
   "metadata": {},
   "outputs": [
    {
     "name": "stderr",
     "output_type": "stream",
     "text": [
      "WARNING: QWindowsWindow::setGeometry: Unable to set geometry 3258x2028-4005+535 (frame: 3290x2116-4021+463) on QWidgetWindow/\"_QtMainWindowClassWindow\" on \"\\\\.\\DISPLAY1\". Resulting geometry: 6388x3101-3997+576 (frame: 6420x3189-4013+504) margins: 16, 72, 16, 16 minimum size: 374x538 MINMAXINFO maxSize=0,0 maxpos=0,0 mintrack=1154,1702 maxtrack=0,0)\n"
     ]
    }
   ],
   "source": [
    "import napari\n",
    "viewer = napari.Viewer()\n",
    "import numpy as np"
   ]
  },
  {
   "cell_type": "code",
   "execution_count": null,
   "metadata": {},
   "outputs": [],
   "source": [
    "\n",
    "viewer.add_points"
   ]
  },
  {
   "cell_type": "code",
   "execution_count": 19,
   "metadata": {},
   "outputs": [],
   "source": [
    "np_data = collev_filtered[['t', 'y', 'x']].to_numpy()\n",
    "colors = np.take(np.array(TAB20), collev_filtered['collid'].unique(), mode=\"wrap\")\n",
    "df_w_colors = pd.merge(collev_filtered, pd.DataFrame(data={'colors': colors, 'collid': collev_filtered['collid'].unique()}))\n",
    "points_data = df_w_colors[['t', 'y', 'x']].to_numpy()\n",
    "colors_data = df_w_colors['colors'].to_numpy('str')"
   ]
  },
  {
   "cell_type": "code",
   "execution_count": 21,
   "metadata": {},
   "outputs": [
    {
     "data": {
      "text/plain": [
       "<Points layer 'collective events' at 0x202b8f42f80>"
      ]
     },
     "execution_count": 21,
     "metadata": {},
     "output_type": "execute_result"
    }
   ],
   "source": [
    "# viewer.add_tracks(np_data, name='cell tracks')\n",
    "viewer.add_points(points_data, face_color=colors_data, name='collective events')"
   ]
  },
  {
   "cell_type": "markdown",
   "metadata": {},
   "source": [
    "## filter collective events"
   ]
  },
  {
   "cell_type": "code",
   "execution_count": 9,
   "metadata": {},
   "outputs": [],
   "source": [
    "from arcos4py.tools import filterCollev"
   ]
  },
  {
   "cell_type": "code",
   "execution_count": 10,
   "metadata": {},
   "outputs": [
    {
     "ename": "KeyError",
     "evalue": "'[None] not in index'",
     "output_type": "error",
     "traceback": [
      "\u001b[1;31m---------------------------------------------------------------------------\u001b[0m",
      "\u001b[1;31mKeyError\u001b[0m                                  Traceback (most recent call last)",
      "Cell \u001b[1;32mIn[10], line 2\u001b[0m\n\u001b[0;32m      1\u001b[0m filterer \u001b[39m=\u001b[39m filterCollev(data \u001b[39m=\u001b[39m collev, frame_column\u001b[39m=\u001b[39m FRAME_COLUMN_NAME, collid_column\u001b[39m=\u001b[39mCOLLID_COLUMN_NAME, obj_id_column\u001b[39m=\u001b[39mOBJECT_ID_COLUMN_NAME) \u001b[39m# initialize class\u001b[39;00m\n\u001b[1;32m----> 2\u001b[0m collev_filtered \u001b[39m=\u001b[39m filterer\u001b[39m.\u001b[39;49mfilter(coll_duration\u001b[39m=\u001b[39;49mMIN_COLLECTIVE_EVENT_DURATION, coll_total_size\u001b[39m=\u001b[39;49mMIN_TOTAL_EVENT_SIZE) \u001b[39m#\u001b[39;00m\n\u001b[0;32m      3\u001b[0m collev_filtered\u001b[39m.\u001b[39mhead()\n",
      "File \u001b[1;32m~\\Documents\\python_dev\\arcos4py\\arcos4py\\tools\\_filter_events.py:89\u001b[0m, in \u001b[0;36mfilterCollev.filter\u001b[1;34m(self, coll_duration, coll_total_size)\u001b[0m\n\u001b[0;32m     87\u001b[0m     \u001b[39mreturn\u001b[39;00m \u001b[39mself\u001b[39m\u001b[39m.\u001b[39mdata\n\u001b[0;32m     88\u001b[0m stats \u001b[39m=\u001b[39m calcCollevStats()\n\u001b[1;32m---> 89\u001b[0m colev_duration \u001b[39m=\u001b[39m stats\u001b[39m.\u001b[39;49mcalculate(\u001b[39mself\u001b[39;49m\u001b[39m.\u001b[39;49mdata, \u001b[39mself\u001b[39;49m\u001b[39m.\u001b[39;49mframe_column, \u001b[39mself\u001b[39;49m\u001b[39m.\u001b[39;49mcollid_column, \u001b[39mself\u001b[39;49m\u001b[39m.\u001b[39;49mobj_id_column)\n\u001b[0;32m     91\u001b[0m filtered_df \u001b[39m=\u001b[39m \u001b[39mself\u001b[39m\u001b[39m.\u001b[39m_filter_collev(\n\u001b[0;32m     92\u001b[0m     \u001b[39mself\u001b[39m\u001b[39m.\u001b[39mdata,\n\u001b[0;32m     93\u001b[0m     colev_duration,\n\u001b[1;32m   (...)\u001b[0m\n\u001b[0;32m     96\u001b[0m     coll_total_size,\n\u001b[0;32m     97\u001b[0m )\n\u001b[0;32m     98\u001b[0m \u001b[39mreturn\u001b[39;00m filtered_df\n",
      "File \u001b[1;32m~\\Documents\\python_dev\\arcos4py\\arcos4py\\tools\\_stats.py:147\u001b[0m, in \u001b[0;36mcalcCollevStats.calculate\u001b[1;34m(self, data, frame_column, collid_column, obj_id_column, posCol)\u001b[0m\n\u001b[0;32m    123\u001b[0m \u001b[39mdef\u001b[39;00m \u001b[39mcalculate\u001b[39m(\n\u001b[0;32m    124\u001b[0m     \u001b[39mself\u001b[39m,\n\u001b[0;32m    125\u001b[0m     data: pd\u001b[39m.\u001b[39mDataFrame,\n\u001b[1;32m   (...)\u001b[0m\n\u001b[0;32m    129\u001b[0m     posCol: Union[\u001b[39mlist\u001b[39m, \u001b[39mNone\u001b[39;00m] \u001b[39m=\u001b[39m \u001b[39mNone\u001b[39;00m,\n\u001b[0;32m    130\u001b[0m ) \u001b[39m-\u001b[39m\u001b[39m>\u001b[39m pd\u001b[39m.\u001b[39mDataFrame:\n\u001b[0;32m    131\u001b[0m \u001b[39m    \u001b[39m\u001b[39m\"\"\"Calculate statistics of collective events.\u001b[39;00m\n\u001b[0;32m    132\u001b[0m \n\u001b[0;32m    133\u001b[0m \u001b[39m    Arguments:\u001b[39;00m\n\u001b[1;32m   (...)\u001b[0m\n\u001b[0;32m    145\u001b[0m \u001b[39m            of all collective events.\u001b[39;00m\n\u001b[0;32m    146\u001b[0m \u001b[39m    \"\"\"\u001b[39;00m\n\u001b[1;32m--> 147\u001b[0m     colev_stats \u001b[39m=\u001b[39m \u001b[39mself\u001b[39;49m\u001b[39m.\u001b[39;49m_get_collev_stats(data, frame_column, collid_column, obj_id_column, posCol)\n\u001b[0;32m    148\u001b[0m     \u001b[39mreturn\u001b[39;00m colev_stats\n",
      "File \u001b[1;32m~\\Documents\\python_dev\\arcos4py\\arcos4py\\tools\\_stats.py:106\u001b[0m, in \u001b[0;36mcalcCollevStats._get_collev_stats\u001b[1;34m(self, data, frame_column, collev_id, obj_id_column, posCol)\u001b[0m\n\u001b[0;32m    104\u001b[0m \u001b[39m# if object id cannot be converted to a float, generate unique labels with pd.factorize\u001b[39;00m\n\u001b[0;32m    105\u001b[0m \u001b[39mtry\u001b[39;00m:\n\u001b[1;32m--> 106\u001b[0m     data_np \u001b[39m=\u001b[39m data[subset]\u001b[39m.\u001b[39mto_numpy(dtype\u001b[39m=\u001b[39mnp\u001b[39m.\u001b[39mfloat64)\n\u001b[0;32m    107\u001b[0m \u001b[39mexcept\u001b[39;00m \u001b[39mValueError\u001b[39;00m:\n\u001b[0;32m    108\u001b[0m     labels, levels \u001b[39m=\u001b[39m pd\u001b[39m.\u001b[39mfactorize(data[obj_id_column])\n",
      "File \u001b[1;32mc:\\Users\\benig\\miniconda3\\envs\\arcos4py_dev\\lib\\site-packages\\pandas\\core\\frame.py:3767\u001b[0m, in \u001b[0;36mDataFrame.__getitem__\u001b[1;34m(self, key)\u001b[0m\n\u001b[0;32m   3765\u001b[0m     \u001b[39mif\u001b[39;00m is_iterator(key):\n\u001b[0;32m   3766\u001b[0m         key \u001b[39m=\u001b[39m \u001b[39mlist\u001b[39m(key)\n\u001b[1;32m-> 3767\u001b[0m     indexer \u001b[39m=\u001b[39m \u001b[39mself\u001b[39;49m\u001b[39m.\u001b[39;49mcolumns\u001b[39m.\u001b[39;49m_get_indexer_strict(key, \u001b[39m\"\u001b[39;49m\u001b[39mcolumns\u001b[39;49m\u001b[39m\"\u001b[39;49m)[\u001b[39m1\u001b[39m]\n\u001b[0;32m   3769\u001b[0m \u001b[39m# take() does not accept boolean indexers\u001b[39;00m\n\u001b[0;32m   3770\u001b[0m \u001b[39mif\u001b[39;00m \u001b[39mgetattr\u001b[39m(indexer, \u001b[39m\"\u001b[39m\u001b[39mdtype\u001b[39m\u001b[39m\"\u001b[39m, \u001b[39mNone\u001b[39;00m) \u001b[39m==\u001b[39m \u001b[39mbool\u001b[39m:\n",
      "File \u001b[1;32mc:\\Users\\benig\\miniconda3\\envs\\arcos4py_dev\\lib\\site-packages\\pandas\\core\\indexes\\base.py:5877\u001b[0m, in \u001b[0;36mIndex._get_indexer_strict\u001b[1;34m(self, key, axis_name)\u001b[0m\n\u001b[0;32m   5874\u001b[0m \u001b[39melse\u001b[39;00m:\n\u001b[0;32m   5875\u001b[0m     keyarr, indexer, new_indexer \u001b[39m=\u001b[39m \u001b[39mself\u001b[39m\u001b[39m.\u001b[39m_reindex_non_unique(keyarr)\n\u001b[1;32m-> 5877\u001b[0m \u001b[39mself\u001b[39;49m\u001b[39m.\u001b[39;49m_raise_if_missing(keyarr, indexer, axis_name)\n\u001b[0;32m   5879\u001b[0m keyarr \u001b[39m=\u001b[39m \u001b[39mself\u001b[39m\u001b[39m.\u001b[39mtake(indexer)\n\u001b[0;32m   5880\u001b[0m \u001b[39mif\u001b[39;00m \u001b[39misinstance\u001b[39m(key, Index):\n\u001b[0;32m   5881\u001b[0m     \u001b[39m# GH 42790 - Preserve name from an Index\u001b[39;00m\n",
      "File \u001b[1;32mc:\\Users\\benig\\miniconda3\\envs\\arcos4py_dev\\lib\\site-packages\\pandas\\core\\indexes\\base.py:5941\u001b[0m, in \u001b[0;36mIndex._raise_if_missing\u001b[1;34m(self, key, indexer, axis_name)\u001b[0m\n\u001b[0;32m   5938\u001b[0m     \u001b[39mraise\u001b[39;00m \u001b[39mKeyError\u001b[39;00m(\u001b[39mf\u001b[39m\u001b[39m\"\u001b[39m\u001b[39mNone of [\u001b[39m\u001b[39m{\u001b[39;00mkey\u001b[39m}\u001b[39;00m\u001b[39m] are in the [\u001b[39m\u001b[39m{\u001b[39;00maxis_name\u001b[39m}\u001b[39;00m\u001b[39m]\u001b[39m\u001b[39m\"\u001b[39m)\n\u001b[0;32m   5940\u001b[0m not_found \u001b[39m=\u001b[39m \u001b[39mlist\u001b[39m(ensure_index(key)[missing_mask\u001b[39m.\u001b[39mnonzero()[\u001b[39m0\u001b[39m]]\u001b[39m.\u001b[39munique())\n\u001b[1;32m-> 5941\u001b[0m \u001b[39mraise\u001b[39;00m \u001b[39mKeyError\u001b[39;00m(\u001b[39mf\u001b[39m\u001b[39m\"\u001b[39m\u001b[39m{\u001b[39;00mnot_found\u001b[39m}\u001b[39;00m\u001b[39m not in index\u001b[39m\u001b[39m\"\u001b[39m)\n",
      "\u001b[1;31mKeyError\u001b[0m: '[None] not in index'"
     ]
    }
   ],
   "source": [
    "filterer = filterCollev(data = collev, frame_column= FRAME_COLUMN_NAME, collid_column=COLLID_COLUMN_NAME, obj_id_column=OBJECT_ID_COLUMN_NAME) # initialize class\n",
    "collev_filtered = filterer.filter(coll_duration=MIN_COLLECTIVE_EVENT_DURATION, coll_total_size=MIN_TOTAL_EVENT_SIZE) #\n",
    "collev_filtered.head()"
   ]
  },
  {
   "cell_type": "markdown",
   "metadata": {},
   "source": [
    "### Collective event Stats"
   ]
  },
  {
   "cell_type": "code",
   "execution_count": 13,
   "metadata": {},
   "outputs": [],
   "source": [
    "from arcos4py.tools import calcCollevStats"
   ]
  },
  {
   "cell_type": "code",
   "execution_count": 14,
   "metadata": {},
   "outputs": [
    {
     "data": {
      "text/html": [
       "<div>\n",
       "<style scoped>\n",
       "    .dataframe tbody tr th:only-of-type {\n",
       "        vertical-align: middle;\n",
       "    }\n",
       "\n",
       "    .dataframe tbody tr th {\n",
       "        vertical-align: top;\n",
       "    }\n",
       "\n",
       "    .dataframe thead th {\n",
       "        text-align: right;\n",
       "    }\n",
       "</style>\n",
       "<table border=\"1\" class=\"dataframe\">\n",
       "  <thead>\n",
       "    <tr style=\"text-align: right;\">\n",
       "      <th></th>\n",
       "      <th>collid</th>\n",
       "      <th>duration</th>\n",
       "      <th>total_size</th>\n",
       "      <th>min_size</th>\n",
       "      <th>max_size</th>\n",
       "      <th>start_frame</th>\n",
       "      <th>end_frame</th>\n",
       "      <th>first_frame_centroid</th>\n",
       "      <th>last_frame_centroid</th>\n",
       "    </tr>\n",
       "  </thead>\n",
       "  <tbody>\n",
       "    <tr>\n",
       "      <th>0</th>\n",
       "      <td>1.0</td>\n",
       "      <td>5.0</td>\n",
       "      <td>25</td>\n",
       "      <td>6.0</td>\n",
       "      <td>17.0</td>\n",
       "      <td>3.0</td>\n",
       "      <td>7.0</td>\n",
       "      <td>[4.134266850197441, 4.175572914818276]</td>\n",
       "      <td>[3.5866499957334064, 4.0094455099197175]</td>\n",
       "    </tr>\n",
       "  </tbody>\n",
       "</table>\n",
       "</div>"
      ],
      "text/plain": [
       "   collid  duration  total_size  min_size  max_size  start_frame  end_frame  \\\n",
       "0     1.0       5.0          25       6.0      17.0          3.0        7.0   \n",
       "\n",
       "                     first_frame_centroid  \\\n",
       "0  [4.134266850197441, 4.175572914818276]   \n",
       "\n",
       "                        last_frame_centroid  \n",
       "0  [3.5866499957334064, 4.0094455099197175]  "
      ]
     },
     "execution_count": 14,
     "metadata": {},
     "output_type": "execute_result"
    }
   ],
   "source": [
    "stats = calcCollevStats().calculate(collev_filtered, FRAME_COLUMN_NAME, COLLID_COLUMN_NAME, OBJECT_ID_COLUMN_NAME, POSITION_COLUMN_NAMES)\n",
    "stats.head()"
   ]
  },
  {
   "cell_type": "markdown",
   "metadata": {},
   "source": [
    "### Plotting Module"
   ]
  },
  {
   "cell_type": "code",
   "execution_count": 15,
   "metadata": {},
   "outputs": [],
   "source": [
    "from arcos4py import plotting"
   ]
  },
  {
   "cell_type": "code",
   "execution_count": 16,
   "metadata": {},
   "outputs": [
    {
     "data": {
      "image/png": "[encoded data removed]",
      "text/plain": [
       "<Figure size 432x288 with 1 Axes>"
      ]
     },
     "metadata": {
      "needs_background": "light"
     },
     "output_type": "display_data"
    }
   ],
   "source": [
    "ndl = plotting.NoodlePlot(collev_filtered,COLLID_COLUMN_NAME, OBJECT_ID_COLUMN_NAME, FRAME_COLUMN_NAME, POSITION_COLUMN_NAMES[0], POSITION_COLUMN_NAMES[1])\n",
    "ndl_plot = ndl.plot(POSITION_COLUMN_NAMES[0])"
   ]
  },
  {
   "cell_type": "code",
   "execution_count": 17,
   "metadata": {},
   "outputs": [],
   "source": [
    "data_plots = plotting.dataPlots(df,FRAME_COLUMN_NAME, MEASUREMENT_COLUMN_NAME, OBJECT_ID_COLUMN_NAME)"
   ]
  },
  {
   "cell_type": "code",
   "execution_count": 18,
   "metadata": {},
   "outputs": [
    {
     "data": {
      "image/png": "[encoded data removed]",
      "text/plain": [
       "<Figure size 432x288 with 1 Axes>"
      ]
     },
     "metadata": {
      "needs_background": "light"
     },
     "output_type": "display_data"
    }
   ],
   "source": [
    "hist = data_plots.histogram()"
   ]
  },
  {
   "cell_type": "code",
   "execution_count": 19,
   "metadata": {},
   "outputs": [
    {
     "data": {
      "image/png": "[encoded data removed]",
      "text/plain": [
       "<Figure size 360x360 with 1 Axes>"
      ]
     },
     "metadata": {
      "needs_background": "light"
     },
     "output_type": "display_data"
    }
   ],
   "source": [
    "dens = data_plots.density_plot()"
   ]
  },
  {
   "cell_type": "code",
   "execution_count": 20,
   "metadata": {},
   "outputs": [
    {
     "data": {
      "image/png": "[encoded data removed]",
      "text/plain": [
       "<Figure size 432x216 with 1 Axes>"
      ]
     },
     "metadata": {
      "needs_background": "light"
     },
     "output_type": "display_data"
    }
   ],
   "source": [
    "xt_plot = data_plots.position_t_plot({POSITION_COLUMN_NAMES[0]}, n=50)"
   ]
  },
  {
   "cell_type": "code",
   "execution_count": 21,
   "metadata": {},
   "outputs": [
    {
     "data": {
      "image/png": "[encoded data removed]",
      "text/plain": [
       "<Figure size 1440x720 with 25 Axes>"
      ]
     },
     "metadata": {
      "needs_background": "light"
     },
     "output_type": "display_data"
    }
   ],
   "source": [
    "detrend_plot = plotting.plotOriginalDetrended(collev,FRAME_COLUMN_NAME, MEASUREMENT_COLUMN_NAME,f'{MEASUREMENT_COLUMN_NAME}.resc',OBJECT_ID_COLUMN_NAME).plot_detrended()"
   ]
  },
  {
   "cell_type": "code",
   "execution_count": 22,
   "metadata": {},
   "outputs": [
    {
     "data": {
      "image/png": "[encoded data removed]",
      "text/plain": [
       "<Figure size 432x288 with 1 Axes>"
      ]
     },
     "metadata": {
      "needs_background": "light"
     },
     "output_type": "display_data"
    }
   ],
   "source": [
    "coll_dur_size_scatter = plotting.statsPlots(stats).plot_events_duration('total_size','duration')"
   ]
  },
  {
   "cell_type": "code",
   "execution_count": null,
   "metadata": {},
   "outputs": [],
   "source": []
  }
 ],
 "metadata": {
  "interpreter": {
   "hash": "4d7bacd3caf967cbc2ccebc22e1bb6cb8bcd40f665f711ff41f787508f4d17a1"
  },
  "kernelspec": {
   "display_name": "Python 3.8.13 ('arcos_py38')",
   "language": "python",
   "name": "python3"
  },
  "language_info": {
   "codemirror_mode": {
    "name": "ipython",
    "version": 3
   },
   "file_extension": ".py",
   "mimetype": "text/x-python",
   "name": "python",
   "nbconvert_exporter": "python",
   "pygments_lexer": "ipython3",
   "version": "3.10.7"
  },
  "orig_nbformat": 4
 },
 "nbformat": 4,
 "nbformat_minor": 2
}
