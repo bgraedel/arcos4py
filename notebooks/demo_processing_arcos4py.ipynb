{
 "cells": [
  {
   "cell_type": "markdown",
   "metadata": {},
   "source": [
    "### Install arcos4py from pypi"
   ]
  },
  {
   "cell_type": "code",
   "execution_count": null,
   "metadata": {},
   "outputs": [],
   "source": [
    "! pip install arcos4py"
   ]
  },
  {
   "cell_type": "markdown",
   "metadata": {},
   "source": [
    "### Import packages"
   ]
  },
  {
   "cell_type": "code",
   "execution_count": null,
   "metadata": {},
   "outputs": [],
   "source": [
    "import pandas as pd\n",
    "from arcos4py import ARCOS\n",
    "TAB20 = [\n",
    "    \"#1f77b4\",\n",
    "    \"#aec7e8\",\n",
    "    \"#ff7f0e\",\n",
    "    \"#ffbb78\",\n",
    "    \"#2ca02c\",\n",
    "    \"#98df8a\",\n",
    "    \"#d62728\",\n",
    "    \"#ff9896\",\n",
    "    \"#9467bd\",\n",
    "    \"#c5b0d5\",\n",
    "    \"#8c564b\",\n",
    "    \"#c49c94\",\n",
    "    \"#e377c2\",\n",
    "    \"#f7b6d2\",\n",
    "    \"#7f7f7f\",\n",
    "    \"#c7c7c7\",\n",
    "    \"#bcbd22\",\n",
    "    \"#dbdb8d\",\n",
    "    \"#17becf\",\n",
    "    \"#9edae5\",\n",
    "]"
   ]
  },
  {
   "cell_type": "markdown",
   "metadata": {},
   "source": [
    "### Example Dataset\n",
    "\n",
    "The synthetic dataset contains 81 objects spaced on a 2D 9x9 lattice. Each object has an ID (column id) and can assume values 0 and 1 (column m), which correspond to an inactive and active state. The evolution of active states takes place over 8 consecutive time points (column t). Each cell moves slightly over time, hence a light wiggle around the initial position.\n",
    "\n",
    "dataset location: arcos4py/sample_data/arcos_data.csv\"\n",
    "\n",
    "For an in-depth explanation of the parameters check out the documentation"
   ]
  },
  {
   "cell_type": "markdown",
   "metadata": {},
   "source": [
    "### Set variables for loading and processing of the data\n",
    "\n",
    "For an in-depth explanation of the parameters check out the documentation"
   ]
  },
  {
   "cell_type": "code",
   "execution_count": null,
   "metadata": {},
   "outputs": [],
   "source": [
    "# path to data\n",
    "DATA: str = \"sample_data/arcos_data.csv\"\n",
    "\n",
    "# column names in DATA\n",
    "POSITION_COLUMN_NAMES: list = ['x', 'y']\n",
    "FRAME_COLUMN_NAME: str = \"t\"\n",
    "OBJECT_ID_COLUMN_NAME: str = 'id'\n",
    "MEASUREMENT_COLUMN_NAME: str = \"m\"\n",
    "\n",
    "# column name with collective event track ids\n",
    "COLLID_COLUMN_NAME: str = \"collid\"\n",
    "\n",
    "# values for clipping and interpolation\n",
    "INTERPOLATE: bool = False\n",
    "CLIP: bool = False\n",
    "CLIP_LOW: float = 0.001\n",
    "CLIP_HIGH: float = 0.999\n",
    "\n",
    "# binarization parameters\n",
    "DETRENDING_METHOD: str = \"none\"   # can be \"none\", \"runmed\" or \"lm\"\n",
    "SMOOTHK: int = 3\n",
    "BIASK: int = 25                     # needed only if BINARIZATION_METHOD method = runmed\n",
    "PEAK_THRESHOLD: float = 0.5         # needed only if BINARIZATION_METHOD method = runmed\n",
    "DEGREE_OF_POLYNOMIAL: int = 1       # needed only if BINARIZATION_METHOD method = lm\n",
    "BINARIZATION_THRESHOLD: float = 0.5\n",
    "\n",
    "# event detection parameters\n",
    "EPS: float = 2\n",
    "MIN_CLUSTER_SIZE: int = 2\n",
    "NPREV_FRAMES: int = 1\n",
    "\n",
    "# filter parameters\n",
    "MIN_COLLECTIVE_EVENT_DURATION: int = 2\n",
    "MIN_TOTAL_EVENT_SIZE: int = 5"
   ]
  },
  {
   "cell_type": "markdown",
   "metadata": {},
   "source": [
    "### Load dataset"
   ]
  },
  {
   "cell_type": "code",
   "execution_count": null,
   "metadata": {},
   "outputs": [],
   "source": [
    "df = pd.read_csv(DATA)\n",
    "\n",
    "# print first rows of data\n",
    "df.head()"
   ]
  },
  {
   "cell_type": "markdown",
   "metadata": {},
   "source": [
    "### Detect collective events"
   ]
  },
  {
   "cell_type": "code",
   "execution_count": null,
   "metadata": {},
   "outputs": [],
   "source": [
    "# create ARCOS object\n",
    "ts = ARCOS(data=df, posCols=POSITION_COLUMN_NAMES, frame_column=FRAME_COLUMN_NAME, id_column=OBJECT_ID_COLUMN_NAME, measurement_column=MEASUREMENT_COLUMN_NAME, clid_column=COLLID_COLUMN_NAME)\n",
    "\n",
    "# interpolate and clip if necessary\n",
    "if INTERPOLATE:\n",
    "    ts.interpolate_measurements() # interpolation of missing values, optional\n",
    "if CLIP:\n",
    "    ts.clip_meas(CLIP_LOW, CLIP_HIGH) # clipping of measurement value, optional\n",
    "\n",
    "# detrend and binarize data\n",
    "ts.bin_measurements(smoothK=SMOOTHK, biasK=BIASK, peakThr=PEAK_THRESHOLD, binThr=BINARIZATION_THRESHOLD, polyDeg=DEGREE_OF_POLYNOMIAL, biasMet=DETRENDING_METHOD) # detrending and binarization\n",
    "\n",
    "# detect and track collective events\n",
    "collev = ts.trackCollev(eps=EPS, minClsz=MIN_CLUSTER_SIZE, nPrev=NPREV_FRAMES)\n",
    "\n",
    "# print first rows of detected collective events\n",
    "collev.head()"
   ]
  },
  {
   "cell_type": "markdown",
   "metadata": {},
   "source": [
    "## filter collective events"
   ]
  },
  {
   "cell_type": "code",
   "execution_count": null,
   "metadata": {},
   "outputs": [],
   "source": [
    "from arcos4py.tools import filterCollev"
   ]
  },
  {
   "cell_type": "code",
   "execution_count": null,
   "metadata": {},
   "outputs": [],
   "source": [
    "filterer = filterCollev(data = collev, frame_column= FRAME_COLUMN_NAME, collid_column=COLLID_COLUMN_NAME, obj_id_column=OBJECT_ID_COLUMN_NAME) # initialize class\n",
    "collev_filtered = filterer.filter(coll_duration=MIN_COLLECTIVE_EVENT_DURATION, coll_total_size=MIN_TOTAL_EVENT_SIZE) #\n",
    "collev_filtered.head()"
   ]
  },
  {
   "cell_type": "markdown",
   "metadata": {},
   "source": [
    "### Collective event Stats"
   ]
  },
  {
   "cell_type": "code",
   "execution_count": null,
   "metadata": {},
   "outputs": [],
   "source": [
    "from arcos4py.tools import calcCollevStats"
   ]
  },
  {
   "cell_type": "code",
   "execution_count": null,
   "metadata": {},
   "outputs": [],
   "source": [
    "stats = calcCollevStats().calculate(collev_filtered, FRAME_COLUMN_NAME, COLLID_COLUMN_NAME, OBJECT_ID_COLUMN_NAME, POSITION_COLUMN_NAMES)\n",
    "stats.head()"
   ]
  },
  {
   "cell_type": "markdown",
   "metadata": {},
   "source": [
    "### Plotting Module"
   ]
  },
  {
   "cell_type": "code",
   "execution_count": null,
   "metadata": {},
   "outputs": [],
   "source": [
    "from arcos4py import plotting"
   ]
  },
  {
   "cell_type": "code",
   "execution_count": null,
   "metadata": {},
   "outputs": [],
   "source": [
    "ndl = plotting.NoodlePlot(collev_filtered,COLLID_COLUMN_NAME, OBJECT_ID_COLUMN_NAME, FRAME_COLUMN_NAME, POSITION_COLUMN_NAMES[0], POSITION_COLUMN_NAMES[1])\n",
    "ndl_plot = ndl.plot(POSITION_COLUMN_NAMES[0])"
   ]
  },
  {
   "cell_type": "code",
   "execution_count": null,
   "metadata": {},
   "outputs": [],
   "source": [
    "data_plots = plotting.dataPlots(df,FRAME_COLUMN_NAME, MEASUREMENT_COLUMN_NAME, OBJECT_ID_COLUMN_NAME)"
   ]
  },
  {
   "cell_type": "code",
   "execution_count": null,
   "metadata": {},
   "outputs": [],
   "source": [
    "hist = data_plots.histogram()"
   ]
  },
  {
   "cell_type": "code",
   "execution_count": null,
   "metadata": {},
   "outputs": [],
   "source": [
    "dens = data_plots.density_plot()"
   ]
  },
  {
   "cell_type": "code",
   "execution_count": null,
   "metadata": {},
   "outputs": [],
   "source": [
    "xt_plot = data_plots.position_t_plot({POSITION_COLUMN_NAMES[0]}, n=50)"
   ]
  },
  {
   "cell_type": "code",
   "execution_count": null,
   "metadata": {},
   "outputs": [],
   "source": [
    "detrend_plot = plotting.plotOriginalDetrended(collev,FRAME_COLUMN_NAME, MEASUREMENT_COLUMN_NAME,f'{MEASUREMENT_COLUMN_NAME}.resc',OBJECT_ID_COLUMN_NAME).plot_detrended()"
   ]
  },
  {
   "cell_type": "code",
   "execution_count": null,
   "metadata": {},
   "outputs": [],
   "source": [
    "coll_dur_size_scatter = plotting.statsPlots(stats).plot_events_duration('total_size','duration')"
   ]
  }
 ],
 "metadata": {
  "interpreter": {
   "hash": "4d7bacd3caf967cbc2ccebc22e1bb6cb8bcd40f665f711ff41f787508f4d17a1"
  },
  "kernelspec": {
   "display_name": "Python 3.8.13 ('arcos_py38')",
   "language": "python",
   "name": "python3"
  },
  "language_info": {
   "codemirror_mode": {
    "name": "ipython",
    "version": 3
   },
   "file_extension": ".py",
   "mimetype": "text/x-python",
   "name": "python",
   "nbconvert_exporter": "python",
   "pygments_lexer": "ipython3",
   "version": "3.10.7"
  },
  "orig_nbformat": 4
 },
 "nbformat": 4,
 "nbformat_minor": 2
}
