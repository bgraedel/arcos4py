{
 "cells": [
  {
   "cell_type": "markdown",
   "metadata": {},
   "source": [
    "# ARCOS Pipeline in python\n",
    "\n",
    "This notebook ilustrates a example workflow from images to ARCOS analysis and visualization in napari. It uses the python package stardist for segmenting nuclei, skimage for image processing and trackpy for tracking cells over time.\n",
    "Subsequently ARCOS is used to analyse and detect collective events.\n",
    "\n",
    "Example dataset is downloadable from: https://arcos.gitbook.io/home/example-use-cases/detecting-collective-signalling-events-in-epithelial-cells"
   ]
  },
  {
   "cell_type": "markdown",
   "metadata": {},
   "source": [
    "### Imports"
   ]
  },
  {
   "cell_type": "code",
   "execution_count": null,
   "metadata": {},
   "outputs": [],
   "source": [
    "import os\n",
    "import skimage\n",
    "import numpy\n",
    "\n",
    "from napari import Viewer\n",
    "from stardist.models import StarDist2D\n",
    "from csbdeep.utils import normalize\n",
    "from skimage.measure import regionprops, regionprops_table\n",
    "from skimage.util import map_array\n",
    "\n",
    "import pandas as pd\n",
    "# import trackpy\n",
    "from arcos4py import ARCOS\n",
    "import errno\n",
    "\n",
    "TAB20 = [\n",
    "    \"#1f77b4\",\n",
    "    \"#aec7e8\",\n",
    "    \"#ff7f0e\",\n",
    "    \"#ffbb78\",\n",
    "    \"#2ca02c\",\n",
    "    \"#98df8a\",\n",
    "    \"#d62728\",\n",
    "    \"#ff9896\",\n",
    "    \"#9467bd\",\n",
    "    \"#c5b0d5\",\n",
    "    \"#8c564b\",\n",
    "    \"#c49c94\",\n",
    "    \"#e377c2\",\n",
    "    \"#f7b6d2\",\n",
    "    \"#7f7f7f\",\n",
    "    \"#c7c7c7\",\n",
    "    \"#bcbd22\",\n",
    "    \"#dbdb8d\",\n",
    "    \"#17becf\",\n",
    "    \"#9edae5\",\n",
    "]"
   ]
  },
  {
   "cell_type": "markdown",
   "metadata": {},
   "source": [
    "### Custom Functions"
   ]
  },
  {
   "cell_type": "code",
   "execution_count": null,
   "metadata": {},
   "outputs": [],
   "source": [
    "def create_folders(path: str, folder: list):\n",
    "    for i in folder:\n",
    "        folder_to_make = os.path.join(path, i)\n",
    "        try:\n",
    "            os.makedirs(folder_to_make)\n",
    "            print(f'folder \"{i}\" created')\n",
    "        except OSError as e:\n",
    "            print(f'folder \"{i}\" alrady exists')\n",
    "            if e.errno != errno.EEXIST:\n",
    "                raise\n",
    "def remap_segmentation(df: pd.DataFrame, segmentation: list, timepoint_column: str = 'timepoint', label_column: str = 'label', measure_column: str = 'ERK') -> list:\n",
    "    tracked_numpy = df[[timepoint_column, label_column, measure_column]].sort_values(timepoint_column).to_numpy()\n",
    "    grouped_numpy = numpy.split(tracked_numpy,numpy.unique(tracked_numpy[:,0], return_index = True)[1][1:])\n",
    "    ratio_remapped = []\n",
    "    for img, grp in zip(segmentation, grouped_numpy):\n",
    "        img_copy = map_array(img, grp[:,1], grp[:, 2])\n",
    "        ratio_remapped.append(img_copy)\n",
    "    return ratio_remapped"
   ]
  },
  {
   "cell_type": "markdown",
   "metadata": {},
   "source": [
    "### Define variables and create output folders"
   ]
  },
  {
   "cell_type": "code",
   "execution_count": null,
   "metadata": {},
   "outputs": [],
   "source": [
    "PATH = 'example_data' # where you data is located   \n",
    "FOLDER = 'mdck_ekar' # subfolder of PATH where images are stored\n",
    "OUT_DATA = 'data' # subfolder of PATH where csv is stored\n",
    "OUT_LABELS = 'stardist' # subfolder of PATH where stardist segmentation is stored\n",
    "FILENAME = 'C3-041_Ori.tif'\n",
    "full_path = os.path.join(PATH, FOLDER)\n",
    "orig_images_path = os.path.join(PATH, FOLDER)\n",
    "out_path_csv = os.path.join(PATH, OUT_DATA)\n",
    "create_folders(PATH, [OUT_DATA, OUT_LABELS]) "
   ]
  },
  {
   "cell_type": "markdown",
   "metadata": {},
   "source": [
    "### Load segmentation model and image"
   ]
  },
  {
   "cell_type": "code",
   "execution_count": null,
   "metadata": {},
   "outputs": [],
   "source": [
    "model = StarDist2D.from_pretrained('2D_versatile_fluo') # standard stardist model for 2d segmentation\n",
    "image_data = skimage.io.imread(os.path.join(orig_images_path, FILENAME))"
   ]
  },
  {
   "cell_type": "markdown",
   "metadata": {},
   "source": [
    "### Apply segmentation and extract data from images"
   ]
  },
  {
   "cell_type": "code",
   "execution_count": null,
   "metadata": {},
   "outputs": [],
   "source": [
    "out_path_stardist = os.path.join(PATH, OUT_LABELS,  'stardist.tif')\n",
    "segmentation = []\n",
    "df = []\n",
    "\n",
    "for t, tp_data in enumerate(image_data):\n",
    "    print(f'analysing timepoint {t}')\n",
    "    labels, _ = model.predict_instances(normalize(tp_data))\n",
    "    labels = skimage.segmentation.clear_border(labels)\n",
    "    dic = regionprops_table(labels, tp_data, properties=['label', 'centroid', 'intensity_mean', 'area'])\n",
    "    dic['timepoint'] = numpy.repeat(t, len(dic['label']))\n",
    "    df.append(pd.DataFrame(dic))\n",
    "    skimage.segmentation.clear_border(labels)\n",
    "    segmentation.append(labels)\n",
    "\n",
    "# optionally save segmentation\n",
    "skimage.io.imsave(out_path_stardist, numpy.stack(segmentation))"
   ]
  },
  {
   "cell_type": "markdown",
   "metadata": {},
   "source": [
    "### Track nuclei and export data as csv"
   ]
  },
  {
   "cell_type": "code",
   "execution_count": null,
   "metadata": {},
   "outputs": [],
   "source": [
    "df_full = pd.concat(df)\n",
    "df_full = df_full.rename(columns={\"centroid-1\": \"x\", \"centroid-0\": \"y\", 'intensity_mean': 'ERK'})\n",
    "df_full = df_full.sort_values(['timepoint'])\n",
    "df_tracked = trackpy.link_df(df_full, search_range = 10, memory = 2, t_column = 'timepoint')\n",
    "df_tracked = df_tracked.reset_index(drop=True).rename(columns={'particle': \"track_id\"})\n",
    "df_tracked.to_csv(out_path_csv+'\\\\tracked_data_fret.csv')"
   ]
  },
  {
   "cell_type": "markdown",
   "metadata": {},
   "source": [
    "### Detect Collective events with ARCOS"
   ]
  },
  {
   "cell_type": "code",
   "execution_count": null,
   "metadata": {},
   "outputs": [],
   "source": [
    "ts = ARCOS(df_tracked, [\"x\", \"y\"], 'timepoint','track_id', 'ERK')\n",
    "ts.interpolate_measurements()\n",
    "ts.bin_measurements(biasMet='none', binThr=0.28)\n",
    "df_arcos = ts.trackCollev(eps=40, minClsz=5)"
   ]
  },
  {
   "cell_type": "markdown",
   "metadata": {},
   "source": [
    "### Filter Collective events"
   ]
  },
  {
   "cell_type": "code",
   "execution_count": null,
   "metadata": {},
   "outputs": [],
   "source": [
    "from arcos4py.tools import filterCollev\n",
    "\n",
    "filterer = filterCollev(df_arcos, 'timepoint', 'clTrackID', 'track_id')\n",
    "ts_filtered = filterer.filter(25, 10)"
   ]
  },
  {
   "cell_type": "markdown",
   "metadata": {},
   "source": [
    "### Plot Noodleplot"
   ]
  },
  {
   "cell_type": "code",
   "execution_count": null,
   "metadata": {},
   "outputs": [],
   "source": [
    "from arcos4py.plotting import NoodlePlot\n",
    "\n",
    "NoodlePlot(ts_filtered, 'clTrackID', 'track_id', 'timepoint', 'x', 'y').plot('x')"
   ]
  },
  {
   "cell_type": "code",
   "execution_count": null,
   "metadata": {},
   "outputs": [],
   "source": [
    "np_data = df_tracked[['track_id', 'timepoint', 'y', 'x']].to_numpy()\n",
    "colors = numpy.take(numpy.array(TAB20), ts_filtered['clTrackID'].unique(), mode=\"wrap\")\n",
    "df_w_colors = pd.merge(ts_filtered, pd.DataFrame(data={'colors': colors, 'clTrackID': ts_filtered['clTrackID'].unique()}))\n",
    "points_data = df_w_colors[['timepoint', 'y', 'x']].to_numpy()\n",
    "colors_data = df_w_colors['colors'].to_numpy('str')"
   ]
  },
  {
   "cell_type": "markdown",
   "metadata": {},
   "source": [
    "### Remap measured Ratio to segmentation labels"
   ]
  },
  {
   "cell_type": "code",
   "execution_count": null,
   "metadata": {},
   "outputs": [],
   "source": [
    "ratio_remapped = numpy.stack(remap_segmentation(df_tracked, segmentation))"
   ]
  },
  {
   "cell_type": "markdown",
   "metadata": {},
   "source": [
    "### Add various layers to napari"
   ]
  },
  {
   "cell_type": "code",
   "execution_count": null,
   "metadata": {},
   "outputs": [],
   "source": [
    "viewer = Viewer()\n",
    "viewer.add_image(image_data, name='ERK Ratio image', colormap='inferno')\n",
    "viewer.add_image(ratio_remapped, colormap='viridis')\n",
    "viewer.add_labels(numpy.stack(segmentation), name='segmentation', visible=False)\n",
    "viewer.add_tracks(np_data, name='cell tracks')\n",
    "viewer.add_points(points_data, face_color=colors_data, name='collective events')"
   ]
  }
 ],
 "metadata": {
  "kernelspec": {
   "display_name": "Python 3.8.13 ('arcos_py38')",
   "language": "python",
   "name": "python3"
  },
  "language_info": {
   "codemirror_mode": {
    "name": "ipython",
    "version": 3
   },
   "file_extension": ".py",
   "mimetype": "text/x-python",
   "name": "python",
   "nbconvert_exporter": "python",
   "pygments_lexer": "ipython3",
   "version": "3.10.7"
  },
  "vscode": {
   "interpreter": {
    "hash": "4d7bacd3caf967cbc2ccebc22e1bb6cb8bcd40f665f711ff41f787508f4d17a1"
   }
  }
 },
 "nbformat": 4,
 "nbformat_minor": 2
}
