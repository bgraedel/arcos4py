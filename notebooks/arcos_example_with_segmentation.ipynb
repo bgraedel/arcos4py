{
 "cells": [
  {
   "cell_type": "markdown",
   "metadata": {},
   "source": [
    "# ARCOS Pipeline in python\n",
    "\n",
    "This notebook ilustrates a example workflow from images to ARCOS analysis and visualization in napari. It uses the python package stardist for segmenting nuclei, skimage for image processing and trackpy for tracking cells over time.\n",
    "Subsequently ARCOS is used to analyse and detect collective events.\n",
    "\n",
    "Example dataset is downloadable from: https://arcos.gitbook.io/home/example-use-cases/detecting-collective-signalling-events-in-epithelial-cells"
   ]
  },
  {
   "cell_type": "markdown",
   "metadata": {},
   "source": [
    "### Imports"
   ]
  },
  {
   "cell_type": "code",
   "execution_count": 14,
   "metadata": {},
   "outputs": [],
   "source": [
    "import os\n",
    "import skimage\n",
    "import numpy\n",
    "\n",
    "from napari import Viewer\n",
    "from stardist.models import StarDist2D\n",
    "from csbdeep.utils import normalize\n",
    "from skimage.measure import regionprops, regionprops_table\n",
    "from skimage.util import map_array\n",
    "\n",
    "import pandas as pd\n",
    "# import trackpy\n",
    "from arcos4py import ARCOS\n",
    "from arcos4py.tools import estimate_eps\n",
    "from arcos4py.validation import bootstrap_arcos\n",
    "import errno\n",
    "\n",
    "TAB20 = [\n",
    "    \"#1f77b4\",\n",
    "    \"#aec7e8\",\n",
    "    \"#ff7f0e\",\n",
    "    \"#ffbb78\",\n",
    "    \"#2ca02c\",\n",
    "    \"#98df8a\",\n",
    "    \"#d62728\",\n",
    "    \"#ff9896\",\n",
    "    \"#9467bd\",\n",
    "    \"#c5b0d5\",\n",
    "    \"#8c564b\",\n",
    "    \"#c49c94\",\n",
    "    \"#e377c2\",\n",
    "    \"#f7b6d2\",\n",
    "    \"#7f7f7f\",\n",
    "    \"#c7c7c7\",\n",
    "    \"#bcbd22\",\n",
    "    \"#dbdb8d\",\n",
    "    \"#17becf\",\n",
    "    \"#9edae5\",\n",
    "]"
   ]
  },
  {
   "cell_type": "markdown",
   "metadata": {},
   "source": [
    "### Custom Functions"
   ]
  },
  {
   "cell_type": "code",
   "execution_count": 15,
   "metadata": {},
   "outputs": [],
   "source": [
    "def create_folders(path: str, folder: list):\n",
    "    for i in folder:\n",
    "        folder_to_make = os.path.join(path, i)\n",
    "        try:\n",
    "            os.makedirs(folder_to_make)\n",
    "            print(f'folder \"{i}\" created')\n",
    "        except OSError as e:\n",
    "            print(f'folder \"{i}\" alrady exists')\n",
    "            if e.errno != errno.EEXIST:\n",
    "                raise\n",
    "def remap_segmentation(df: pd.DataFrame, segmentation: list, timepoint_column: str = 'timepoint', label_column: str = 'label', measure_column: str = 'ERK') -> list:\n",
    "    tracked_numpy = df[[timepoint_column, label_column, measure_column]].sort_values(timepoint_column).to_numpy()\n",
    "    grouped_numpy = numpy.split(tracked_numpy,numpy.unique(tracked_numpy[:,0], return_index = True)[1][1:])\n",
    "    ratio_remapped = []\n",
    "    for img, grp in zip(segmentation, grouped_numpy):\n",
    "        img_copy = map_array(img, grp[:,1], grp[:, 2])\n",
    "        ratio_remapped.append(img_copy)\n",
    "    return ratio_remapped"
   ]
  },
  {
   "cell_type": "markdown",
   "metadata": {},
   "source": [
    "### Define variables and create output folders"
   ]
  },
  {
   "cell_type": "code",
   "execution_count": 16,
   "metadata": {},
   "outputs": [
    {
     "name": "stdout",
     "output_type": "stream",
     "text": [
      "folder \"data\" alrady exists\n",
      "folder \"stardist\" alrady exists\n"
     ]
    }
   ],
   "source": [
    "PATH = 'example_data' # where you data is located   \n",
    "FOLDER = 'mdck_ekar' # subfolder of PATH where images are stored\n",
    "OUT_DATA = 'data' # subfolder of PATH where csv is stored\n",
    "OUT_LABELS = 'stardist' # subfolder of PATH where stardist segmentation is stored\n",
    "FILENAME = 'C3-041_Ori.tif'\n",
    "full_path = os.path.join(PATH, FOLDER)\n",
    "orig_images_path = os.path.join(PATH, FOLDER)\n",
    "out_path_csv = os.path.join(PATH, OUT_DATA)\n",
    "create_folders(PATH, [OUT_DATA, OUT_LABELS]) "
   ]
  },
  {
   "cell_type": "markdown",
   "metadata": {},
   "source": [
    "### Load segmentation model and image"
   ]
  },
  {
   "cell_type": "code",
   "execution_count": null,
   "metadata": {},
   "outputs": [],
   "source": [
    "model = StarDist2D.from_pretrained('2D_versatile_fluo') # standard stardist model for 2d segmentation\n",
    "image_data = skimage.io.imread(os.path.join(orig_images_path, FILENAME))"
   ]
  },
  {
   "cell_type": "markdown",
   "metadata": {},
   "source": [
    "### Apply segmentation and extract data from images"
   ]
  },
  {
   "cell_type": "code",
   "execution_count": null,
   "metadata": {},
   "outputs": [],
   "source": [
    "out_path_stardist = os.path.join(PATH, OUT_LABELS,  'stardist.tif')\n",
    "segmentation = []\n",
    "df = []\n",
    "\n",
    "for t, tp_data in enumerate(image_data):\n",
    "    print(f'analysing timepoint {t}')\n",
    "    labels, _ = model.predict_instances(normalize(tp_data))\n",
    "    labels = skimage.segmentation.clear_border(labels)\n",
    "    dic = regionprops_table(labels, tp_data, properties=['label', 'centroid', 'intensity_mean', 'area'])\n",
    "    dic['timepoint'] = numpy.repeat(t, len(dic['label']))\n",
    "    df.append(pd.DataFrame(dic))\n",
    "    skimage.segmentation.clear_border(labels)\n",
    "    segmentation.append(labels)\n",
    "\n",
    "# optionally save segmentation\n",
    "# skimage.io.imsave(out_path_stardist, numpy.stack(segmentation))"
   ]
  },
  {
   "cell_type": "markdown",
   "metadata": {},
   "source": [
    "### Track nuclei and export data as csv"
   ]
  },
  {
   "cell_type": "code",
   "execution_count": null,
   "metadata": {},
   "outputs": [],
   "source": [
    "import trackpy\n",
    "df_full = pd.concat(df)\n",
    "df_full = df_full.rename(columns={\"centroid-1\": \"x\", \"centroid-0\": \"y\", 'intensity_mean': 'ERK'})\n",
    "df_full = df_full.sort_values(['timepoint'])\n",
    "df_tracked = trackpy.link_df(df_full, search_range = 10, memory = 2, t_column = 'timepoint')\n",
    "df_tracked = df_tracked.reset_index(drop=True).rename(columns={'particle': \"track_id\"})\n",
    "# df_tracked.to_csv(out_path_csv+'\\\\tracked_data_fret.csv')"
   ]
  },
  {
   "cell_type": "code",
   "execution_count": 4,
   "metadata": {},
   "outputs": [],
   "source": [
    "df_tracked = pd.read_csv(out_path_csv+'\\\\tracked_data_fret.csv')"
   ]
  },
  {
   "cell_type": "markdown",
   "metadata": {},
   "source": [
    "### Detect Collective events with ARCOS"
   ]
  },
  {
   "cell_type": "code",
   "execution_count": 5,
   "metadata": {},
   "outputs": [
    {
     "data": {
      "text/html": [
       "<div>\n",
       "<style scoped>\n",
       "    .dataframe tbody tr th:only-of-type {\n",
       "        vertical-align: middle;\n",
       "    }\n",
       "\n",
       "    .dataframe tbody tr th {\n",
       "        vertical-align: top;\n",
       "    }\n",
       "\n",
       "    .dataframe thead th {\n",
       "        text-align: right;\n",
       "    }\n",
       "</style>\n",
       "<table border=\"1\" class=\"dataframe\">\n",
       "  <thead>\n",
       "    <tr style=\"text-align: right;\">\n",
       "      <th></th>\n",
       "      <th>Unnamed: 0</th>\n",
       "      <th>label</th>\n",
       "      <th>y</th>\n",
       "      <th>x</th>\n",
       "      <th>ERK</th>\n",
       "      <th>area</th>\n",
       "      <th>timepoint</th>\n",
       "      <th>track_id</th>\n",
       "      <th>ERK.resc</th>\n",
       "      <th>ERK.bin</th>\n",
       "    </tr>\n",
       "  </thead>\n",
       "  <tbody>\n",
       "    <tr>\n",
       "      <th>0</th>\n",
       "      <td>0</td>\n",
       "      <td>1</td>\n",
       "      <td>234.036101</td>\n",
       "      <td>234.216606</td>\n",
       "      <td>24.241877</td>\n",
       "      <td>277.0</td>\n",
       "      <td>0</td>\n",
       "      <td>0</td>\n",
       "      <td>0.579005</td>\n",
       "      <td>0</td>\n",
       "    </tr>\n",
       "    <tr>\n",
       "      <th>1</th>\n",
       "      <td>192</td>\n",
       "      <td>1</td>\n",
       "      <td>234.508772</td>\n",
       "      <td>235.382456</td>\n",
       "      <td>24.007018</td>\n",
       "      <td>285.0</td>\n",
       "      <td>1</td>\n",
       "      <td>0</td>\n",
       "      <td>0.570780</td>\n",
       "      <td>0</td>\n",
       "    </tr>\n",
       "    <tr>\n",
       "      <th>2</th>\n",
       "      <td>283</td>\n",
       "      <td>2</td>\n",
       "      <td>234.652174</td>\n",
       "      <td>234.163043</td>\n",
       "      <td>23.923913</td>\n",
       "      <td>276.0</td>\n",
       "      <td>2</td>\n",
       "      <td>0</td>\n",
       "      <td>0.570780</td>\n",
       "      <td>0</td>\n",
       "    </tr>\n",
       "    <tr>\n",
       "      <th>3</th>\n",
       "      <td>423</td>\n",
       "      <td>2</td>\n",
       "      <td>234.516129</td>\n",
       "      <td>234.562724</td>\n",
       "      <td>24.114695</td>\n",
       "      <td>279.0</td>\n",
       "      <td>3</td>\n",
       "      <td>0</td>\n",
       "      <td>0.574551</td>\n",
       "      <td>0</td>\n",
       "    </tr>\n",
       "    <tr>\n",
       "      <th>4</th>\n",
       "      <td>633</td>\n",
       "      <td>1</td>\n",
       "      <td>234.379061</td>\n",
       "      <td>234.534296</td>\n",
       "      <td>24.314079</td>\n",
       "      <td>277.0</td>\n",
       "      <td>4</td>\n",
       "      <td>0</td>\n",
       "      <td>0.574551</td>\n",
       "      <td>0</td>\n",
       "    </tr>\n",
       "    <tr>\n",
       "      <th>...</th>\n",
       "      <td>...</td>\n",
       "      <td>...</td>\n",
       "      <td>...</td>\n",
       "      <td>...</td>\n",
       "      <td>...</td>\n",
       "      <td>...</td>\n",
       "      <td>...</td>\n",
       "      <td>...</td>\n",
       "      <td>...</td>\n",
       "      <td>...</td>\n",
       "    </tr>\n",
       "    <tr>\n",
       "      <th>28036</th>\n",
       "      <td>26966</td>\n",
       "      <td>3</td>\n",
       "      <td>11.401442</td>\n",
       "      <td>17.651442</td>\n",
       "      <td>17.944712</td>\n",
       "      <td>416.0</td>\n",
       "      <td>192</td>\n",
       "      <td>186</td>\n",
       "      <td>0.362880</td>\n",
       "      <td>0</td>\n",
       "    </tr>\n",
       "    <tr>\n",
       "      <th>28037</th>\n",
       "      <td>27094</td>\n",
       "      <td>2</td>\n",
       "      <td>11.457500</td>\n",
       "      <td>16.387500</td>\n",
       "      <td>18.182500</td>\n",
       "      <td>400.0</td>\n",
       "      <td>193</td>\n",
       "      <td>186</td>\n",
       "      <td>0.366788</td>\n",
       "      <td>0</td>\n",
       "    </tr>\n",
       "    <tr>\n",
       "      <th>28038</th>\n",
       "      <td>27190</td>\n",
       "      <td>169</td>\n",
       "      <td>50.645833</td>\n",
       "      <td>288.500000</td>\n",
       "      <td>20.645833</td>\n",
       "      <td>48.0</td>\n",
       "      <td>193</td>\n",
       "      <td>187</td>\n",
       "      <td>0.453061</td>\n",
       "      <td>0</td>\n",
       "    </tr>\n",
       "    <tr>\n",
       "      <th>28039</th>\n",
       "      <td>27489</td>\n",
       "      <td>169</td>\n",
       "      <td>50.488372</td>\n",
       "      <td>289.813953</td>\n",
       "      <td>21.093023</td>\n",
       "      <td>43.0</td>\n",
       "      <td>195</td>\n",
       "      <td>187</td>\n",
       "      <td>0.453061</td>\n",
       "      <td>0</td>\n",
       "    </tr>\n",
       "    <tr>\n",
       "      <th>28040</th>\n",
       "      <td>27872</td>\n",
       "      <td>167</td>\n",
       "      <td>50.478261</td>\n",
       "      <td>289.739130</td>\n",
       "      <td>20.413043</td>\n",
       "      <td>46.0</td>\n",
       "      <td>198</td>\n",
       "      <td>187</td>\n",
       "      <td>0.444908</td>\n",
       "      <td>0</td>\n",
       "    </tr>\n",
       "  </tbody>\n",
       "</table>\n",
       "<p>28041 rows × 10 columns</p>\n",
       "</div>"
      ],
      "text/plain": [
       "       Unnamed: 0  label           y           x        ERK   area  timepoint  \\\n",
       "0               0      1  234.036101  234.216606  24.241877  277.0          0   \n",
       "1             192      1  234.508772  235.382456  24.007018  285.0          1   \n",
       "2             283      2  234.652174  234.163043  23.923913  276.0          2   \n",
       "3             423      2  234.516129  234.562724  24.114695  279.0          3   \n",
       "4             633      1  234.379061  234.534296  24.314079  277.0          4   \n",
       "...           ...    ...         ...         ...        ...    ...        ...   \n",
       "28036       26966      3   11.401442   17.651442  17.944712  416.0        192   \n",
       "28037       27094      2   11.457500   16.387500  18.182500  400.0        193   \n",
       "28038       27190    169   50.645833  288.500000  20.645833   48.0        193   \n",
       "28039       27489    169   50.488372  289.813953  21.093023   43.0        195   \n",
       "28040       27872    167   50.478261  289.739130  20.413043   46.0        198   \n",
       "\n",
       "       track_id  ERK.resc  ERK.bin  \n",
       "0             0  0.579005        0  \n",
       "1             0  0.570780        0  \n",
       "2             0  0.570780        0  \n",
       "3             0  0.574551        0  \n",
       "4             0  0.574551        0  \n",
       "...         ...       ...      ...  \n",
       "28036       186  0.362880        0  \n",
       "28037       186  0.366788        0  \n",
       "28038       187  0.453061        0  \n",
       "28039       187  0.453061        0  \n",
       "28040       187  0.444908        0  \n",
       "\n",
       "[28041 rows x 10 columns]"
      ]
     },
     "execution_count": 5,
     "metadata": {},
     "output_type": "execute_result"
    }
   ],
   "source": [
    "ts = ARCOS(df_tracked, [\"x\", \"y\"], 'timepoint','track_id', 'ERK')\n",
    "ts.interpolate_measurements()\n",
    "ts.bin_measurements(bias_method='none', binarization_threshold=0.65)\n"
   ]
  },
  {
   "cell_type": "code",
   "execution_count": 6,
   "metadata": {},
   "outputs": [
    {
     "data": {
      "image/png": "[encoded data removed]",
      "text/plain": [
       "<Figure size 500x500 with 1 Axes>"
      ]
     },
     "metadata": {},
     "output_type": "display_data"
    }
   ],
   "source": [
    "eps = estimate_eps(ts.data.query('`ERK.bin` == 1'), method='kneepoint', position_columns=[\"x\", \"y\"], frame_column='timepoint', n_neighbors=3)"
   ]
  },
  {
   "cell_type": "code",
   "execution_count": 7,
   "metadata": {},
   "outputs": [
    {
     "name": "stderr",
     "output_type": "stream",
     "text": [
      "100%|██████████| 200/200 [00:01<00:00, 176.01it/s]\n"
     ]
    }
   ],
   "source": [
    "df_arcos = ts.track_collective_events(eps=eps, min_clustersize=3)"
   ]
  },
  {
   "cell_type": "markdown",
   "metadata": {},
   "source": [
    "### Filter Collective events"
   ]
  },
  {
   "cell_type": "code",
   "execution_count": 8,
   "metadata": {},
   "outputs": [],
   "source": [
    "from arcos4py.tools import filterCollev\n",
    "\n",
    "filterer = filterCollev(df_arcos, 'timepoint', 'clTrackID', 'track_id')\n",
    "ts_filtered = filterer.filter(25, 10)"
   ]
  },
  {
   "cell_type": "code",
   "execution_count": 9,
   "metadata": {},
   "outputs": [
    {
     "data": {
      "text/html": [
       "<div>\n",
       "<style scoped>\n",
       "    .dataframe tbody tr th:only-of-type {\n",
       "        vertical-align: middle;\n",
       "    }\n",
       "\n",
       "    .dataframe tbody tr th {\n",
       "        vertical-align: top;\n",
       "    }\n",
       "\n",
       "    .dataframe thead th {\n",
       "        text-align: right;\n",
       "    }\n",
       "</style>\n",
       "<table border=\"1\" class=\"dataframe\">\n",
       "  <thead>\n",
       "    <tr style=\"text-align: right;\">\n",
       "      <th></th>\n",
       "      <th>Unnamed: 0</th>\n",
       "      <th>label</th>\n",
       "      <th>y</th>\n",
       "      <th>x</th>\n",
       "      <th>ERK</th>\n",
       "      <th>area</th>\n",
       "      <th>timepoint</th>\n",
       "      <th>track_id</th>\n",
       "      <th>ERK.resc</th>\n",
       "      <th>ERK.bin</th>\n",
       "      <th>clTrackID</th>\n",
       "    </tr>\n",
       "  </thead>\n",
       "  <tbody>\n",
       "    <tr>\n",
       "      <th>28</th>\n",
       "      <td>5881</td>\n",
       "      <td>66</td>\n",
       "      <td>161.197411</td>\n",
       "      <td>133.915858</td>\n",
       "      <td>29.385113</td>\n",
       "      <td>309.0</td>\n",
       "      <td>41</td>\n",
       "      <td>69</td>\n",
       "      <td>0.759136</td>\n",
       "      <td>1</td>\n",
       "      <td>5</td>\n",
       "    </tr>\n",
       "    <tr>\n",
       "      <th>29</th>\n",
       "      <td>5891</td>\n",
       "      <td>92</td>\n",
       "      <td>132.793605</td>\n",
       "      <td>118.090116</td>\n",
       "      <td>29.494186</td>\n",
       "      <td>344.0</td>\n",
       "      <td>41</td>\n",
       "      <td>122</td>\n",
       "      <td>0.748303</td>\n",
       "      <td>1</td>\n",
       "      <td>5</td>\n",
       "    </tr>\n",
       "    <tr>\n",
       "      <th>30</th>\n",
       "      <td>5840</td>\n",
       "      <td>29</td>\n",
       "      <td>150.071685</td>\n",
       "      <td>150.627240</td>\n",
       "      <td>26.971326</td>\n",
       "      <td>279.0</td>\n",
       "      <td>41</td>\n",
       "      <td>134</td>\n",
       "      <td>0.674598</td>\n",
       "      <td>1</td>\n",
       "      <td>5</td>\n",
       "    </tr>\n",
       "    <tr>\n",
       "      <th>31</th>\n",
       "      <td>5927</td>\n",
       "      <td>117</td>\n",
       "      <td>128.785294</td>\n",
       "      <td>140.032353</td>\n",
       "      <td>30.202941</td>\n",
       "      <td>340.0</td>\n",
       "      <td>41</td>\n",
       "      <td>140</td>\n",
       "      <td>0.787779</td>\n",
       "      <td>1</td>\n",
       "      <td>5</td>\n",
       "    </tr>\n",
       "    <tr>\n",
       "      <th>32</th>\n",
       "      <td>5960</td>\n",
       "      <td>5</td>\n",
       "      <td>140.816393</td>\n",
       "      <td>186.196721</td>\n",
       "      <td>28.760656</td>\n",
       "      <td>305.0</td>\n",
       "      <td>42</td>\n",
       "      <td>9</td>\n",
       "      <td>0.737266</td>\n",
       "      <td>1</td>\n",
       "      <td>5</td>\n",
       "    </tr>\n",
       "    <tr>\n",
       "      <th>...</th>\n",
       "      <td>...</td>\n",
       "      <td>...</td>\n",
       "      <td>...</td>\n",
       "      <td>...</td>\n",
       "      <td>...</td>\n",
       "      <td>...</td>\n",
       "      <td>...</td>\n",
       "      <td>...</td>\n",
       "      <td>...</td>\n",
       "      <td>...</td>\n",
       "      <td>...</td>\n",
       "    </tr>\n",
       "    <tr>\n",
       "      <th>3813</th>\n",
       "      <td>27912</td>\n",
       "      <td>4</td>\n",
       "      <td>229.560724</td>\n",
       "      <td>267.974160</td>\n",
       "      <td>28.976744</td>\n",
       "      <td>387.0</td>\n",
       "      <td>199</td>\n",
       "      <td>115</td>\n",
       "      <td>0.744834</td>\n",
       "      <td>1</td>\n",
       "      <td>6</td>\n",
       "    </tr>\n",
       "    <tr>\n",
       "      <th>3814</th>\n",
       "      <td>27995</td>\n",
       "      <td>108</td>\n",
       "      <td>266.013158</td>\n",
       "      <td>156.743421</td>\n",
       "      <td>29.243421</td>\n",
       "      <td>304.0</td>\n",
       "      <td>199</td>\n",
       "      <td>116</td>\n",
       "      <td>0.754174</td>\n",
       "      <td>1</td>\n",
       "      <td>6</td>\n",
       "    </tr>\n",
       "    <tr>\n",
       "      <th>3815</th>\n",
       "      <td>28017</td>\n",
       "      <td>120</td>\n",
       "      <td>229.716867</td>\n",
       "      <td>181.132530</td>\n",
       "      <td>27.144578</td>\n",
       "      <td>332.0</td>\n",
       "      <td>199</td>\n",
       "      <td>123</td>\n",
       "      <td>0.680666</td>\n",
       "      <td>1</td>\n",
       "      <td>6</td>\n",
       "    </tr>\n",
       "    <tr>\n",
       "      <th>3816</th>\n",
       "      <td>28035</td>\n",
       "      <td>152</td>\n",
       "      <td>71.770642</td>\n",
       "      <td>226.636086</td>\n",
       "      <td>28.342508</td>\n",
       "      <td>327.0</td>\n",
       "      <td>199</td>\n",
       "      <td>125</td>\n",
       "      <td>0.722621</td>\n",
       "      <td>1</td>\n",
       "      <td>9</td>\n",
       "    </tr>\n",
       "    <tr>\n",
       "      <th>3817</th>\n",
       "      <td>28019</td>\n",
       "      <td>118</td>\n",
       "      <td>266.026022</td>\n",
       "      <td>237.412639</td>\n",
       "      <td>31.386617</td>\n",
       "      <td>269.0</td>\n",
       "      <td>199</td>\n",
       "      <td>128</td>\n",
       "      <td>0.829235</td>\n",
       "      <td>1</td>\n",
       "      <td>6</td>\n",
       "    </tr>\n",
       "  </tbody>\n",
       "</table>\n",
       "<p>3614 rows × 11 columns</p>\n",
       "</div>"
      ],
      "text/plain": [
       "      Unnamed: 0  label           y           x        ERK   area  timepoint  \\\n",
       "28          5881     66  161.197411  133.915858  29.385113  309.0         41   \n",
       "29          5891     92  132.793605  118.090116  29.494186  344.0         41   \n",
       "30          5840     29  150.071685  150.627240  26.971326  279.0         41   \n",
       "31          5927    117  128.785294  140.032353  30.202941  340.0         41   \n",
       "32          5960      5  140.816393  186.196721  28.760656  305.0         42   \n",
       "...          ...    ...         ...         ...        ...    ...        ...   \n",
       "3813       27912      4  229.560724  267.974160  28.976744  387.0        199   \n",
       "3814       27995    108  266.013158  156.743421  29.243421  304.0        199   \n",
       "3815       28017    120  229.716867  181.132530  27.144578  332.0        199   \n",
       "3816       28035    152   71.770642  226.636086  28.342508  327.0        199   \n",
       "3817       28019    118  266.026022  237.412639  31.386617  269.0        199   \n",
       "\n",
       "      track_id  ERK.resc  ERK.bin  clTrackID  \n",
       "28          69  0.759136        1          5  \n",
       "29         122  0.748303        1          5  \n",
       "30         134  0.674598        1          5  \n",
       "31         140  0.787779        1          5  \n",
       "32           9  0.737266        1          5  \n",
       "...        ...       ...      ...        ...  \n",
       "3813       115  0.744834        1          6  \n",
       "3814       116  0.754174        1          6  \n",
       "3815       123  0.680666        1          6  \n",
       "3816       125  0.722621        1          9  \n",
       "3817       128  0.829235        1          6  \n",
       "\n",
       "[3614 rows x 11 columns]"
      ]
     },
     "execution_count": 9,
     "metadata": {},
     "output_type": "execute_result"
    }
   ],
   "source": [
    "ts_filtered"
   ]
  },
  {
   "cell_type": "markdown",
   "metadata": {},
   "source": [
    "### Plot Noodleplot"
   ]
  },
  {
   "cell_type": "code",
   "execution_count": 10,
   "metadata": {},
   "outputs": [
    {
     "data": {
      "text/plain": [
       "(<Figure size 640x480 with 1 Axes>,\n",
       " <Axes: xlabel='Time Point', ylabel='Position'>)"
      ]
     },
     "execution_count": 10,
     "metadata": {},
     "output_type": "execute_result"
    },
    {
     "data": {
      "image/png": "[encoded data removed]",
      "text/plain": [
       "<Figure size 640x480 with 1 Axes>"
      ]
     },
     "metadata": {},
     "output_type": "display_data"
    }
   ],
   "source": [
    "# from arcos4py.plotting import NoodlePlot\n",
    "from matplotlib import pyplot as plt\n",
    "from arcos4py.plotting import NoodlePlot\n",
    "\n",
    "NoodlePlot(ts_filtered, 'clTrackID', 'track_id', 'timepoint', 'x', 'y', marker='o', linestyle=\"-\", markersize=4).plot('x')"
   ]
  },
  {
   "cell_type": "code",
   "execution_count": null,
   "metadata": {},
   "outputs": [],
   "source": [
    "np_data = df_tracked[['track_id', 'timepoint', 'y', 'x']].to_numpy()\n",
    "colors = numpy.take(numpy.array(TAB20), ts_filtered['clTrackID'].unique(), mode=\"wrap\")\n",
    "df_w_colors = pd.merge(ts_filtered, pd.DataFrame(data={'colors': colors, 'clTrackID': ts_filtered['clTrackID'].unique()}))\n",
    "points_data = df_w_colors[['timepoint', 'y', 'x']].to_numpy()\n",
    "colors_data = df_w_colors['colors'].to_numpy('str')"
   ]
  },
  {
   "cell_type": "markdown",
   "metadata": {},
   "source": [
    "### Remap measured Ratio to segmentation labels"
   ]
  },
  {
   "cell_type": "code",
   "execution_count": null,
   "metadata": {},
   "outputs": [],
   "source": [
    "ratio_remapped = numpy.stack(remap_segmentation(df_tracked, segmentation))"
   ]
  },
  {
   "cell_type": "markdown",
   "metadata": {},
   "source": [
    "### Add various layers to napari"
   ]
  },
  {
   "cell_type": "code",
   "execution_count": null,
   "metadata": {},
   "outputs": [],
   "source": [
    "viewer = Viewer()\n",
    "viewer.add_image(image_data, name='ERK Ratio image', colormap='inferno')\n",
    "viewer.add_image(ratio_remapped, colormap='viridis')\n",
    "viewer.add_labels(numpy.stack(segmentation), name='segmentation', visible=False)\n",
    "viewer.add_tracks(np_data, name='cell tracks')\n",
    "viewer.add_points(points_data, face_color=colors_data, name='collective events')"
   ]
  },
  {
   "cell_type": "markdown",
   "metadata": {},
   "source": [
    "## Perform validation"
   ]
  },
  {
   "cell_type": "code",
   "execution_count": 11,
   "metadata": {},
   "outputs": [],
   "source": [
    "from arcos4py.validation import bootstrap_arcos"
   ]
  },
  {
   "cell_type": "code",
   "execution_count": 13,
   "metadata": {},
   "outputs": [
    {
     "name": "stdout",
     "output_type": "stream",
     "text": [
      "Resampling data using method \"shuffle_tracks\"...\n"
     ]
    },
    {
     "name": "stderr",
     "output_type": "stream",
     "text": [
      "100%|██████████| 100/100 [00:11<00:00,  8.61it/s]\n"
     ]
    },
    {
     "name": "stdout",
     "output_type": "stream",
     "text": [
      "Running ARCOS and calculating \"['total_size', 'duration']\"...\n"
     ]
    },
    {
     "name": "stderr",
     "output_type": "stream",
     "text": [
      "100%|██████████| 101/101 [00:35<00:00,  2.82it/s]\n"
     ]
    },
    {
     "data": {
      "image/png": "[encoded data removed]",
      "text/plain": [
       "<Figure size 640x480 with 2 Axes>"
      ]
     },
     "metadata": {},
     "output_type": "display_data"
    }
   ],
   "source": [
    "df = bootstrap_arcos(\n",
    "    df=df_tracked,\n",
    "    position_columns=[\"x\", \"y\"],\n",
    "    frame_column='timepoint',\n",
    "    obj_id_column='track_id',\n",
    "    measurement_column='ERK',\n",
    "    method='shuffle_tracks',\n",
    "    binarization_threshold=0.65,\n",
    "    bias_method='none',\n",
    "    eps=eps,\n",
    "    min_clustersize=3,\n",
    "    min_duration=2,\n",
    "    min_total_size=3,\n",
    "    n=100,\n",
    "    parallel_processing=True,\n",
    ")"
   ]
  }
 ],
 "metadata": {
  "kernelspec": {
   "display_name": "Python 3.8.13 ('arcos_py38')",
   "language": "python",
   "name": "python3"
  },
  "language_info": {
   "codemirror_mode": {
    "name": "ipython",
    "version": 3
   },
   "file_extension": ".py",
   "mimetype": "text/x-python",
   "name": "python",
   "nbconvert_exporter": "python",
   "pygments_lexer": "ipython3",
   "version": "3.10.7"
  },
  "vscode": {
   "interpreter": {
    "hash": "4d7bacd3caf967cbc2ccebc22e1bb6cb8bcd40f665f711ff41f787508f4d17a1"
   }
  }
 },
 "nbformat": 4,
 "nbformat_minor": 2
}
